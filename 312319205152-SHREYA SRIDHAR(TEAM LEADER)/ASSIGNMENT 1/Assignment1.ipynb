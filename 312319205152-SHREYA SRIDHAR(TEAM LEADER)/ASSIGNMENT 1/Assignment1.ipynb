{
  "metadata": {
    "language_info": {
      "codemirror_mode": {
        "name": "python",
        "version": 3
      },
      "file_extension": ".py",
      "mimetype": "text/x-python",
      "name": "python",
      "nbconvert_exporter": "python",
      "pygments_lexer": "ipython3",
      "version": "3.8"
    },
    "kernelspec": {
      "name": "python",
      "display_name": "Python (Pyodide)",
      "language": "python"
    }
  },
  "nbformat_minor": 4,
  "nbformat": 4,
  "cells": [
    {
      "cell_type": "code",
      "source": "s = \"Hi there Sam!\"\nx = s.split()\nprint(x)",
      "metadata": {
        "trusted": true
      },
      "execution_count": 2,
      "outputs": [
        {
          "name": "stdout",
          "text": "['Hi', 'there', 'Sam!']\n",
          "output_type": "stream"
        }
      ]
    },
    {
      "cell_type": "code",
      "source": "planet = \"Earth\"\ndiameter = 12742",
      "metadata": {
        "trusted": true
      },
      "execution_count": 3,
      "outputs": []
    },
    {
      "cell_type": "code",
      "source": "planet = \"Earth\"\ndiameter = 12742\nprint(\"The diameter of {} is {} kilometers.\" .format(planet,diameter))",
      "metadata": {
        "trusted": true
      },
      "execution_count": 4,
      "outputs": [
        {
          "name": "stdout",
          "text": "The diameter of Earth is 12742 kilometers.\n",
          "output_type": "stream"
        }
      ]
    },
    {
      "cell_type": "code",
      "source": "d = {'k1':[1,2,3,{'tricky':['oh','man','inception',{'target':[1,2,3,'hello']}]}]}",
      "metadata": {
        "trusted": true
      },
      "execution_count": 5,
      "outputs": []
    },
    {
      "cell_type": "code",
      "source": "d = {'k1':[1,2,3,{'tricky':['oh','man','inception',{'target':[1,2,3,'hello']}]}]}\nprint(d['k1'][3][\"tricky\"][3][\"target\"][3])",
      "metadata": {
        "trusted": true
      },
      "execution_count": 6,
      "outputs": [
        {
          "name": "stdout",
          "text": "hello\n",
          "output_type": "stream"
        }
      ]
    },
    {
      "cell_type": "code",
      "source": "import numpy as np",
      "metadata": {
        "trusted": true
      },
      "execution_count": 7,
      "outputs": []
    },
    {
      "cell_type": "code",
      "source": "import numpy as np\narray = np.zeros(10)\nprint(array)",
      "metadata": {
        "trusted": true
      },
      "execution_count": 8,
      "outputs": [
        {
          "name": "stdout",
          "text": "[0. 0. 0. 0. 0. 0. 0. 0. 0. 0.]\n",
          "output_type": "stream"
        }
      ]
    },
    {
      "cell_type": "code",
      "source": "array1 = np.ones(10)*5\nprint(array1)",
      "metadata": {
        "trusted": true
      },
      "execution_count": 9,
      "outputs": [
        {
          "name": "stdout",
          "text": "[5. 5. 5. 5. 5. 5. 5. 5. 5. 5.]\n",
          "output_type": "stream"
        }
      ]
    },
    {
      "cell_type": "code",
      "source": "import numpy as np\narray = np.arange(20,35,2)\nprint(array)",
      "metadata": {
        "trusted": true
      },
      "execution_count": 10,
      "outputs": [
        {
          "name": "stdout",
          "text": "[20 22 24 26 28 30 32 34]\n",
          "output_type": "stream"
        }
      ]
    },
    {
      "cell_type": "code",
      "source": "import numpy as np\nx = np.arange(0,9).reshape(3,3)\nprint(x)",
      "metadata": {
        "trusted": true
      },
      "execution_count": 11,
      "outputs": [
        {
          "name": "stdout",
          "text": "[[0 1 2]\n [3 4 5]\n [6 7 8]]\n",
          "output_type": "stream"
        }
      ]
    },
    {
      "cell_type": "code",
      "source": "import numpy as np\na = np.array([1, 2, 3])\nb = np.array([4, 5, 6])\nnp.concatenate([a,b])",
      "metadata": {
        "trusted": true
      },
      "execution_count": 12,
      "outputs": [
        {
          "execution_count": 12,
          "output_type": "execute_result",
          "data": {
            "text/plain": "array([1, 2, 3, 4, 5, 6])"
          },
          "metadata": {}
        }
      ]
    },
    {
      "cell_type": "code",
      "source": "import pandas as pd",
      "metadata": {
        "trusted": true
      },
      "execution_count": 13,
      "outputs": []
    },
    {
      "cell_type": "code",
      "source": "import pandas as pd\nlst = [\"python\",\"data\",\"science\"]\ndf = pd.DataFrame(lst)\nprint(df)",
      "metadata": {
        "trusted": true
      },
      "execution_count": 14,
      "outputs": [
        {
          "name": "stdout",
          "text": "         0\n0   python\n1     data\n2  science\n",
          "output_type": "stream"
        }
      ]
    },
    {
      "cell_type": "code",
      "source": "import pandas as pd\nper = pd.date_range(start='1-1-2023',end = '2-10-2023')\nfor i in per:\n    print(i)",
      "metadata": {
        "trusted": true
      },
      "execution_count": 15,
      "outputs": [
        {
          "name": "stdout",
          "text": "2023-01-01 00:00:00\n2023-01-02 00:00:00\n2023-01-03 00:00:00\n2023-01-04 00:00:00\n2023-01-05 00:00:00\n2023-01-06 00:00:00\n2023-01-07 00:00:00\n2023-01-08 00:00:00\n2023-01-09 00:00:00\n2023-01-10 00:00:00\n2023-01-11 00:00:00\n2023-01-12 00:00:00\n2023-01-13 00:00:00\n2023-01-14 00:00:00\n2023-01-15 00:00:00\n2023-01-16 00:00:00\n2023-01-17 00:00:00\n2023-01-18 00:00:00\n2023-01-19 00:00:00\n2023-01-20 00:00:00\n2023-01-21 00:00:00\n2023-01-22 00:00:00\n2023-01-23 00:00:00\n2023-01-24 00:00:00\n2023-01-25 00:00:00\n2023-01-26 00:00:00\n2023-01-27 00:00:00\n2023-01-28 00:00:00\n2023-01-29 00:00:00\n2023-01-30 00:00:00\n2023-01-31 00:00:00\n2023-02-01 00:00:00\n2023-02-02 00:00:00\n2023-02-03 00:00:00\n2023-02-04 00:00:00\n2023-02-05 00:00:00\n2023-02-06 00:00:00\n2023-02-07 00:00:00\n2023-02-08 00:00:00\n2023-02-09 00:00:00\n2023-02-10 00:00:00\n",
          "output_type": "stream"
        }
      ]
    },
    {
      "cell_type": "code",
      "source": "lists = [[1, 'aaa', 22], [2, 'bbb', 25], [3, 'ccc', 24]]",
      "metadata": {
        "trusted": true
      },
      "execution_count": 16,
      "outputs": []
    },
    {
      "cell_type": "code",
      "source": "import pandas as pd\nlists = [[1, 'aaa', 22], [2, 'bbb', 25], [3, 'ccc', 24]]\ndf = pd.DataFrame(lists)\nprint(df)",
      "metadata": {
        "trusted": true
      },
      "execution_count": 17,
      "outputs": [
        {
          "name": "stdout",
          "text": "   0    1   2\n0  1  aaa  22\n1  2  bbb  25\n2  3  ccc  24\n",
          "output_type": "stream"
        }
      ]
    },
    {
      "cell_type": "code",
      "source": "",
      "metadata": {},
      "execution_count": null,
      "outputs": []
    }
  ]
}